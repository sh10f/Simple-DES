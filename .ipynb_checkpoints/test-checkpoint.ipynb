{
 "cells": [
  {
   "cell_type": "markdown",
   "id": "e8f4cf89-8a9c-4003-aa24-6dcc84a066a3",
   "metadata": {},
   "source": [
    "# P 置换盒\n",
    "主要使用numpy的索引实现\n",
    "\n",
    "由于numpy索引可以解决 普通置换，压缩置换，扩展置换。所以这三种置换均可在同一函数中实现\n",
    "\n",
    "* 同理，其他盒子也可用numpy索引解决"
   ]
  },
  {
   "cell_type": "code",
   "execution_count": 13,
   "id": "891c38c1-d04d-4609-8959-4cfb8024640f",
   "metadata": {},
   "outputs": [],
   "source": [
    "import numpy as np"
   ]
  },
  {
   "cell_type": "code",
   "execution_count": 23,
   "id": "43e53240-2e92-48ce-9f06-3d56bf12073d",
   "metadata": {
    "collapsed": true,
    "jupyter": {
     "outputs_hidden": true
    },
    "tags": []
   },
   "outputs": [
    {
     "data": {
      "text/plain": [
       "\u001b[1;31mSignature:\u001b[0m       \u001b[0mnp\u001b[0m\u001b[1;33m.\u001b[0m\u001b[0mappend\u001b[0m\u001b[1;33m(\u001b[0m\u001b[0marr\u001b[0m\u001b[1;33m,\u001b[0m \u001b[0mvalues\u001b[0m\u001b[1;33m,\u001b[0m \u001b[0maxis\u001b[0m\u001b[1;33m=\u001b[0m\u001b[1;32mNone\u001b[0m\u001b[1;33m)\u001b[0m\u001b[1;33m\u001b[0m\u001b[1;33m\u001b[0m\u001b[0m\n",
       "\u001b[1;31mCall signature:\u001b[0m  \u001b[0mnp\u001b[0m\u001b[1;33m.\u001b[0m\u001b[0mappend\u001b[0m\u001b[1;33m(\u001b[0m\u001b[1;33m*\u001b[0m\u001b[0margs\u001b[0m\u001b[1;33m,\u001b[0m \u001b[1;33m**\u001b[0m\u001b[0mkwargs\u001b[0m\u001b[1;33m)\u001b[0m\u001b[1;33m\u001b[0m\u001b[1;33m\u001b[0m\u001b[0m\n",
       "\u001b[1;31mType:\u001b[0m            _ArrayFunctionDispatcher\n",
       "\u001b[1;31mString form:\u001b[0m     <function append at 0x0000016D5E03C700>\n",
       "\u001b[1;31mFile:\u001b[0m            c:\\users\\lenovo\\anaconda3\\envs\\pytorch\\lib\\site-packages\\numpy\\lib\\function_base.py\n",
       "\u001b[1;31mDocstring:\u001b[0m      \n",
       "Append values to the end of an array.\n",
       "\n",
       "Parameters\n",
       "----------\n",
       "arr : array_like\n",
       "    Values are appended to a copy of this array.\n",
       "values : array_like\n",
       "    These values are appended to a copy of `arr`.  It must be of the\n",
       "    correct shape (the same shape as `arr`, excluding `axis`).  If\n",
       "    `axis` is not specified, `values` can be any shape and will be\n",
       "    flattened before use.\n",
       "axis : int, optional\n",
       "    The axis along which `values` are appended.  If `axis` is not\n",
       "    given, both `arr` and `values` are flattened before use.\n",
       "\n",
       "Returns\n",
       "-------\n",
       "append : ndarray\n",
       "    A copy of `arr` with `values` appended to `axis`.  Note that\n",
       "    `append` does not occur in-place: a new array is allocated and\n",
       "    filled.  If `axis` is None, `out` is a flattened array.\n",
       "\n",
       "See Also\n",
       "--------\n",
       "insert : Insert elements into an array.\n",
       "delete : Delete elements from an array.\n",
       "\n",
       "Examples\n",
       "--------\n",
       ">>> np.append([1, 2, 3], [[4, 5, 6], [7, 8, 9]])\n",
       "array([1, 2, 3, ..., 7, 8, 9])\n",
       "\n",
       "When `axis` is specified, `values` must have the correct shape.\n",
       "\n",
       ">>> np.append([[1, 2, 3], [4, 5, 6]], [[7, 8, 9]], axis=0)\n",
       "array([[1, 2, 3],\n",
       "       [4, 5, 6],\n",
       "       [7, 8, 9]])\n",
       ">>> np.append([[1, 2, 3], [4, 5, 6]], [7, 8, 9], axis=0)\n",
       "Traceback (most recent call last):\n",
       "    ...\n",
       "ValueError: all the input arrays must have same number of dimensions, but\n",
       "the array at index 0 has 2 dimension(s) and the array at index 1 has 1\n",
       "dimension(s)\n",
       "\u001b[1;31mClass docstring:\u001b[0m\n",
       "Class to wrap functions with checks for __array_function__ overrides.\n",
       "\n",
       "All arguments are required, and can only be passed by position.\n",
       "\n",
       "Parameters\n",
       "----------\n",
       "dispatcher : function or None\n",
       "    The dispatcher function that returns a single sequence-like object\n",
       "    of all arguments relevant.  It must have the same signature (except\n",
       "    the default values) as the actual implementation.\n",
       "    If ``None``, this is a ``like=`` dispatcher and the\n",
       "    ``_ArrayFunctionDispatcher`` must be called with ``like`` as the\n",
       "    first (additional and positional) argument.\n",
       "implementation : function\n",
       "    Function that implements the operation on NumPy arrays without\n",
       "    overrides.  Arguments passed calling the ``_ArrayFunctionDispatcher``\n",
       "    will be forwarded to this (and the ``dispatcher``) as if using\n",
       "    ``*args, **kwargs``.\n",
       "\n",
       "Attributes\n",
       "----------\n",
       "_implementation : function\n",
       "    The original implementation passed in."
      ]
     },
     "metadata": {},
     "output_type": "display_data"
    }
   ],
   "source": [
    "class PBox:\n",
    "    def __init__(self, in_length, out_order):\n",
    "        # 设置该PBox的一些属性\n",
    "        self.in_length = in_length\n",
    "        self.out_order = out_order\n",
    "\n",
    "    def cal(self, input):\n",
    "        # 该PBox的计算\n",
    "        result = input[self.out_order]\n",
    "        return result\n",
    "\n",
    "x = np.array([5, 6, 7, 8, 9])\n",
    "LeftShift1_order = [1, 2, 3, 4, 0]\n",
    "\n",
    "LeftShift1 = PBox(5, LeftShift1_order)\n",
    "LeftShift1.cal(x)   # 5 被换到最右边\n",
    "np.append?"
   ]
  },
  {
   "cell_type": "code",
   "execution_count": 24,
   "id": "40956e72-5bc1-4127-b9bd-3e18a7ecbc9f",
   "metadata": {},
   "outputs": [
    {
     "data": {
      "text/plain": [
       "array([1, 1], dtype=uint8)"
      ]
     },
     "execution_count": 24,
     "metadata": {},
     "output_type": "execute_result"
    }
   ],
   "source": [
    "def split(input):\n",
    "    length = input.shape[0]\n",
    "    mid = length // 2\n",
    "    return input[:mid], input[mid:]\n",
    "\n",
    "def swap(left, right):\n",
    "    return right, left\n",
    "\n",
    "def merge(left, right):\n",
    "    result = left\n",
    "    result = np.append(result, right)\n",
    "    return result\n",
    "    \n",
    "\n",
    "def binToDec(input):\n",
    "    binary_string = ''.join(np.array(input).astype(str))\n",
    "\n",
    "    # 使用 int 函数将二进制字符串转换为十进制\n",
    "    decimal_value = int(binary_string, 2)\n",
    "    return decimal_value\n",
    "\n",
    "def decToBin(input):\n",
    "    t = np.array(input, dtype=np.uint8)\n",
    "    binary_array = np.unpackbits(t)\n",
    "    return binary_array\n",
    "    \n",
    "class SBox:\n",
    "    def __init__(self, out_order):\n",
    "        self.out_order = out_order\n",
    "    \n",
    "    def cal(self, input):\n",
    "        row_index = [input[0], input[-1]]\n",
    "        row = binToDec(row_index)\n",
    "        \n",
    "        column_index = input[1:-1]\n",
    "        column = binToDec(column_index)\n",
    "        \n",
    "        result = self.out_order[row][column]\n",
    "        result = decToBin(result)\n",
    "        return result[-2:]\n",
    "\n",
    "SBox1_order = np.array([[1,0,3,2],[3,2,1,0],[0,2,1,3],[3,1,0,2]])\n",
    "SBox1 = SBox(SBox1_order)\n",
    "\n",
    "SBox1.cal(np.array([1,1,1,0]))"
   ]
  },
  {
   "cell_type": "code",
   "execution_count": 62,
   "id": "e2f04d12-5126-4c6e-bfef-e5a9a9cc7e70",
   "metadata": {},
   "outputs": [
    {
     "name": "stdout",
     "output_type": "stream",
     "text": [
      "AA\n"
     ]
    },
    {
     "data": {
      "text/plain": [
       "1111111111"
      ]
     },
     "execution_count": 62,
     "metadata": {},
     "output_type": "execute_result"
    }
   ],
   "source": [
    "a = np.array([1, 1, 1])\n",
    "b = np.array([1, 1, 1])\n",
    "if np.sum(a == b) == a.shape[0]:\n",
    "    print(\"AA\")\n",
    "    \n",
    "b = 1023\n",
    "c = np.binary_repr(b, width=10)"
   ]
  },
  {
   "cell_type": "markdown",
   "id": "86beaa1a-70a2-47f2-8fcd-f0cb77e3ebeb",
   "metadata": {},
   "source": [
    "* **UI界面输入的是字符串**\n",
    "* 字符串分为 二进制字符串和ASCII码字符串\n",
    "  * “010101”    “ABCD123”\n",
    "\n",
    "* "
   ]
  },
  {
   "cell_type": "code",
   "execution_count": 3,
   "id": "8c0e1e3e-51dd-4b09-a761-55e536d5c15b",
   "metadata": {},
   "outputs": [
    {
     "name": "stdout",
     "output_type": "stream",
     "text": [
      "二进制:  [0 1 0 1 0 0 1]\n"
     ]
    }
   ],
   "source": [
    "# a = \"0101001\" 转为 [0,1,0,1,0,0,1]\n",
    "\n",
    "a = \"0101001\"  # 7个\n",
    "\n",
    "ascii_array = np.array([ord(char)-48 for char in a], dtype=np.uint8)\n",
    "print(\"二进制: \", ascii_array)"
   ]
  },
  {
   "cell_type": "code",
   "execution_count": 9,
   "id": "98ffd7e8-eb3c-4c86-ba0b-72349c436d40",
   "metadata": {},
   "outputs": [
    {
     "name": "stdout",
     "output_type": "stream",
     "text": [
      "<class 'bytes'>\n",
      "<class 'int'>\n",
      "[228 184 173  65  66  67]\n",
      "[228 184 173  65  66  67]\n",
      "[1 1 1 0 0 1 0 0 1 0 1 1 1 0 0 0 1 0 1 0 1 1 0 1 0 1 0 0 0 0 0 1 0 1 0 0 0\n",
      " 0 1 0 0 1 0 0 0 0 1 1]\n",
      "中ABC\n"
     ]
    }
   ],
   "source": [
    "import numpy as np\n",
    "a = \"中ABC\"\n",
    "b_a = a.encode()\n",
    "print(type(b_a))\n",
    "print(type(b_a[0]))\n",
    "\n",
    "tt = np.array([i for i in b_a])\n",
    "print(tt)\n",
    "t = np.array([i for i in b_a], dtype=np.uint8)\n",
    "print(t)\n",
    "\n",
    "binary_array = np.unpackbits(t)\n",
    "print(binary_array)\n",
    "\n",
    "# 将二进制数组重塑为字节数组\n",
    "byte_array = np.packbits(binary_array)\n",
    "\n",
    "# 将字节数组转换为字符串\n",
    "string_result = byte_array.tobytes().decode('utf-8', errors='ignore')\n",
    "\n",
    "print(string_result)"
   ]
  },
  {
   "cell_type": "code",
   "execution_count": 5,
   "id": "79f7b4c7-9195-4b4c-b361-f3e66963ba95",
   "metadata": {},
   "outputs": [
    {
     "name": "stdout",
     "output_type": "stream",
     "text": [
      "ASCII:  [65 66 67 68 69 70 71]\n",
      "二进制:  [0 1 0 0 0 0 0 1 0 1 0 0 0 0 1 0 0 1 0 0 0 0 1 1 0 1 0 0 0 1 0 0 0 1 0 0 0\n",
      " 1 0 1 0 1 0 0 0 1 1 0 0 1 0 0 0 1 1 1]\n",
      "(56,)\n",
      "(7, 8)\n",
      "65\n",
      "66\n",
      "67\n",
      "68\n",
      "69\n",
      "70\n",
      "71\n"
     ]
    }
   ],
   "source": [
    "# a = \"ABCDEFG\"转为[65, 66....]的数组,再转为[01010101]\n",
    "\n",
    "import numpy as np\n",
    "\n",
    "a = \"ABCDEFG\"  # 7个\n",
    "ascii_array = np.array([ord(char) for char in a], dtype=np.uint8)\n",
    "print(\"ASCII: \", ascii_array)\n",
    "\n",
    "binary_array = np.unpackbits(ascii_array)\n",
    "\n",
    "print(\"二进制: \", binary_array)\n",
    "print(binary_array.shape)  # (56, 1)\n",
    "\n",
    "c = binary_array.reshape(-1, 8)\n",
    "print(c.shape)  # (7, 8)\n",
    "\n",
    "for i in c:\n",
    "    # 将数组转换为二进制字符串\n",
    "    binary_string = ''.join(np.array(i).astype(str))\n",
    "\n",
    "    # 使用 int 函数将二进制字符串转换为十进制\n",
    "    decimal_value = int(binary_string, 2)\n",
    "\n",
    "    print(decimal_value)  # 输出：11    "
   ]
  },
  {
   "cell_type": "code",
   "execution_count": 6,
   "id": "d823cc0f-3d28-479f-a3d2-118cce26e9cd",
   "metadata": {},
   "outputs": [
    {
     "name": "stdout",
     "output_type": "stream",
     "text": [
      "11\n"
     ]
    }
   ],
   "source": [
    "import numpy as np\n",
    "\n",
    "# 示例数组 (二进制数组)\n",
    "binary_array = np.array([1, 0, 1, 1])  # 表示二进制的 1011\n",
    "\n",
    "# 将数组转换为二进制字符串\n",
    "binary_string = ''.join(binary_array.astype(str))\n",
    "\n",
    "# 使用 int 函数将二进制字符串转换为十进制\n",
    "decimal_value = int(binary_string, 2)\n",
    "\n",
    "print(decimal_value)  # 输出：11"
   ]
  },
  {
   "cell_type": "code",
   "execution_count": 32,
   "id": "f63c5c01-be92-4e47-87fb-b84f59592b4b",
   "metadata": {},
   "outputs": [
    {
     "name": "stdout",
     "output_type": "stream",
     "text": [
      "(6, 8)\n",
      "中ABC\n"
     ]
    }
   ],
   "source": [
    "# prompt: [1 1 1 0 0 1 0 0 1 0 1 1 1 0 0 0 1 0 1 0 1 1 0 1 0 1 0 0 0 0 0 1 0 1 0 0 0\n",
    "#  0 1 0 0 1 0 0 0 0 1 1]\n",
    "# 转为bytes数组，生成字符串\n",
    "\n",
    "import numpy as np\n",
    "\n",
    "binary_array = np.array([1, 1, 1, 0, 0, 1, 0, 0, 1, 0, 1, 1, 1, 0, 0, 0, 1, 0, 1, 0, 1, 1, 0, 1, 0, 1, 0, 0, 0, 0, 0, 1, 0, 1, 0, 0, 0,\n",
    "                         0, 1, 0, 0, 1, 0, 0, 0, 0, 1, 1])\n",
    "binary_array = binary_array.reshape(-1,8)\n",
    "print(binary_array.shape)\n",
    "# 将二进制数组重塑为字节数组\n",
    "byte_array = np.packbits(binary_array)\n",
    "\n",
    "# 将字节数组转换为字符串\n",
    "string_result = byte_array.tobytes().decode('utf-8', errors='ignore')\n",
    "\n",
    "print(string_result)\n"
   ]
  },
  {
   "cell_type": "markdown",
   "id": "76158bec-d3a9-4eee-bcbe-3f72f0f39360",
   "metadata": {},
   "source": [
    "# 算法设计\n",
    "三个类\n",
    "* PBox\n",
    "* SBox\n",
    "* CipherMachine"
   ]
  },
  {
   "cell_type": "code",
   "execution_count": 7,
   "id": "860f69bb-5f84-4534-86eb-8df0626db9e4",
   "metadata": {},
   "outputs": [
    {
     "ename": "IndentationError",
     "evalue": "expected an indented block after function definition on line 2 (1464124182.py, line 5)",
     "output_type": "error",
     "traceback": [
      "\u001b[1;36m  Cell \u001b[1;32mIn[7], line 5\u001b[1;36m\u001b[0m\n\u001b[1;33m    def cal(self, input):\u001b[0m\n\u001b[1;37m    ^\u001b[0m\n\u001b[1;31mIndentationError\u001b[0m\u001b[1;31m:\u001b[0m expected an indented block after function definition on line 2\n"
     ]
    }
   ],
   "source": [
    "a = np.array([1,2,34,5])\n",
    "class PBox:\n",
    "    def __init__(self, in_length, out_order):\n",
    "        # 设置该PBox的一些属性\n",
    "        self.out_order = out_order\n",
    "    def cal(self, input):\n",
    "        # 该PBox的计算\n",
    "        return input[self.out_order]\n",
    "        \n",
    "class Key:\n",
    "    def __init__(self):\n",
    "        # 设置该PBox的一些属性\n",
    "        self.P10 = PBox(10, np.array([1,2,3,4,5, 6,7,0]))\n",
    "        self.Leftshift1 = PBox(5, np.a)\n",
    "    def cal(self, input):\n",
    "        # 该PBox的计算\n",
    "        x = self.P10.cal(input)\n",
    "        # x = self.Leftshift1.cal(x)\n",
    "        \n",
    "        \n",
    "        return k1, k2\n",
    "        \n",
    "class SBox:\n",
    "    def __init__(self, in_length, out_table):\n",
    "        # 设置该SBox的一些属性\n",
    "        \n",
    "    def cal(self, input):\n",
    "        # 该SBox的计算\n",
    "\n",
    "class FBox:  # 轮函数\n",
    "    def __init__(self):\n",
    "        # 设置该SBox的一些属性\n",
    "        \n",
    "    def cal(self, input):\n",
    "        # 该SBox的计算\n",
    "    \n",
    "class CipherMachine:\n",
    "    def __init__(self):\n",
    "        # 设置密码机的模块\n",
    "        # eg： self.P10 = PBox(5, [0, 2, 3, 1, 4])\n",
    "        \n",
    "    def forward(self, x, ):\n",
    "        # 计算\n",
    "        # eg: x = self.P10.cal(x)\n",
    "        # eg: x = self.P8.cal(x)"
   ]
  },
  {
   "cell_type": "code",
   "execution_count": 31,
   "id": "2634b6ca-ab9a-45f8-8d8d-a36e79a92ad4",
   "metadata": {},
   "outputs": [
    {
     "name": "stdout",
     "output_type": "stream",
     "text": [
      "b'\\xe4\\xb8\\xadABC'\n",
      "b'ABC'\n",
      "ABC\n"
     ]
    }
   ],
   "source": [
    "str = \"中ABC\"\n",
    "a = str.encode('utf-8')\n",
    "print(a)\n",
    "b = b'ABC'\n",
    "print(b)\n",
    "print(b.decode())"
   ]
  },
  {
   "cell_type": "code",
   "execution_count": null,
   "id": "dc2183a5-8e70-42a9-a592-2a95601c3d1d",
   "metadata": {},
   "outputs": [],
   "source": []
  }
 ],
 "metadata": {
  "kernelspec": {
   "display_name": "pytorch",
   "language": "python",
   "name": "pytorch"
  },
  "language_info": {
   "codemirror_mode": {
    "name": "ipython",
    "version": 3
   },
   "file_extension": ".py",
   "mimetype": "text/x-python",
   "name": "python",
   "nbconvert_exporter": "python",
   "pygments_lexer": "ipython3",
   "version": "3.10.14"
  }
 },
 "nbformat": 4,
 "nbformat_minor": 5
}
